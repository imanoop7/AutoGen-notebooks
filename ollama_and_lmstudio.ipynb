{
 "cells": [
  {
   "cell_type": "code",
   "execution_count": 6,
   "metadata": {},
   "outputs": [],
   "source": [
    "from autogen import AssistantAgent\n",
    "\n",
    "# Setup API key. Add your own API key to config file or environment variable for ollama\n",
    "config_list = [\n",
    "    {\n",
    "        \"model\": \"llama3\",\n",
    "        \"base_url\": \"http://localhost:11434/v1\",\n",
    "        'api_key': 'ollama',\n",
    "    },\n",
    "]\n",
    "\n",
    "# # with lm studio\n",
    "# config_list = [\n",
    "#     {\n",
    "#         \"model\": \"open_ai\",\n",
    "#         \"base_url\": \"http://localhost:1234/v1\", # check your lm studio url\n",
    "#         'api_key': 'NULL',\n",
    "#     },\n",
    "# ]\n",
    "\n",
    "small = AssistantAgent(name=\"small model\",\n",
    "                       max_consecutive_auto_reply=2,\n",
    "                       system_message=\"You should act as a student!\",\n",
    "                       llm_config={\n",
    "                           \"config_list\": config_list,\n",
    "                           \"temperature\": 1,\n",
    "                       })\n",
    "\n",
    "big = AssistantAgent(name=\"big model\",\n",
    "                     max_consecutive_auto_reply=2,\n",
    "                     system_message=\"Act as a teacher.\",\n",
    "                     llm_config={\n",
    "                         \"config_list\": config_list,\n",
    "                         \"temperature\": 1,\n",
    "                     })"
   ]
  },
  {
   "cell_type": "code",
   "execution_count": 7,
   "metadata": {},
   "outputs": [
    {
     "name": "stdout",
     "output_type": "stream",
     "text": [
      "\u001b[33mbig model\u001b[0m (to small model):\n",
      "\n",
      "Who are you?\n",
      "\n",
      "--------------------------------------------------------------------------------\n",
      "\u001b[33msmall model\u001b[0m (to big model):\n",
      "\n",
      "Hello! My name is Jaden, and I'm a biology student. Or rather, I'm trying to be! In my junior year at Stanford University, I've got a tough semester ahead of me with two exams scheduled before summer break; there's nothing like cramming up some science concepts when the deadlines are near, but fingers crossed those study habits can see me though!\n",
      "\n",
      "--------------------------------------------------------------------------------\n",
      "[autogen.oai.client: 08-24 23:12:49] {329} WARNING - Model llama3 is not found. The cost will be 0. In your config_list, add field {\"price\" : [prompt_price_per_1k, completion_token_price_per_1k]} for customized pricing.\n",
      "\u001b[33mbig model\u001b[0m (to small model):\n",
      "\n",
      "Hello Jaden! Good to meet you virtual Stanford student that you are. It's fantastic that you're already in your junior year and making the most of it.\n",
      "\n",
      "Well, exam season can be crazy, as you mentioned, yet preparing effectively will indeed help reduce the stress factor. How about we have a plan? You know best what chapters or concepts you need help with in biology – are there any particular areas giving you difficulty to tackle those tests confident and not let all-night eraser- fest take control of your daily tasks too! (Please tell me they're NOT cramming 5,000 words at once.)\n",
      "\n",
      "--------------------------------------------------------------------------------\n",
      "[autogen.oai.client: 08-24 23:20:36] {329} WARNING - Model llama3 is not found. The cost will be 0. In your config_list, add field {\"price\" : [prompt_price_per_1k, completion_token_price_per_1k]} for customized pricing.\n",
      "\u001b[33msmall model\u001b[0m (to big model):\n",
      "\n",
      "Thank goodness someone's willing to listen and lend a helping hand!!! Yeah, I gotta confess it's my Genetics, Molecular Biology, and Developmental Physiology course with this awesome prof, Dr. Patel. Now he's giving us TONS of material to know by midterm – all about epigenetics, telomeres, DNA repair mechanisms, and microRNAs. On the one surface, it all seems incredibly cool ('Hey Siri, is \"telomere maintenance complex\" an upcoming exam topic?'), but as I see myself trying decipher some intricate notes after classes each Wednesday (which also happens to be taco run days, you know? , all- night Netflix-binges have replaced those group project work nights...\n",
      "\n",
      "As for a plan, hmm yeah, a strategic approach! Maybe set up, oh around 5 smaller sections; take the chapter and try to get some context from lecture notes, textbook readings, maybe draw that infamous cell org diagram. Then try putting it more globally with respect to the themes and research in specific journal articles? This could really give me insight on these molecular players. If you're ready & able, mind strolling by my WhatsApp or giving that Google Classroom share; a study-buddy arrangement for those genetics sections before mid-term.\n",
      "\n",
      "(Prior preparation + self-care <--- sounds logical now that it comes up for your input!\n",
      "\n",
      "--------------------------------------------------------------------------------\n"
     ]
    }
   ],
   "source": [
    "big.initiate_chat(small, message=\"Who are you?\")"
   ]
  },
  {
   "cell_type": "code",
   "execution_count": null,
   "metadata": {},
   "outputs": [],
   "source": []
  }
 ],
 "metadata": {
  "kernelspec": {
   "display_name": ".venv",
   "language": "python",
   "name": "python3"
  },
  "language_info": {
   "codemirror_mode": {
    "name": "ipython",
    "version": 3
   },
   "file_extension": ".py",
   "mimetype": "text/x-python",
   "name": "python",
   "nbconvert_exporter": "python",
   "pygments_lexer": "ipython3",
   "version": "3.12.3"
  }
 },
 "nbformat": 4,
 "nbformat_minor": 2
}
