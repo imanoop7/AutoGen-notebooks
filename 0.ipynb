{
 "cells": [
  {
   "cell_type": "code",
   "execution_count": 4,
   "metadata": {},
   "outputs": [],
   "source": [
    "import autogen\n",
    "from autogen import AssistantAgent, UserProxyAgent\n",
    "import os\n",
    "\n",
    "config_list = {\n",
    "        # Let's choose the Llama 3 model\n",
    "        \"model\": \"gemini-pro\",\n",
    "        # Put your Groq API key here or put it into the GROQ_API_KEY environment variable.\n",
    "        \"api_key\": os.environ.get(\"GOOGLE_API_KEY\"),\n",
    "        # We specify the API Type as 'groq' so it uses the Groq client class\n",
    "        \"api_type\": \"google\"\n",
    "    }"
   ]
  },
  {
   "cell_type": "code",
   "execution_count": 5,
   "metadata": {},
   "outputs": [],
   "source": [
    "assistant = AssistantAgent(\"assistant\", llm_config=config_list)\n",
    "\n",
    "user_proxy = UserProxyAgent(\n",
    "    \"user_proxy\", code_execution_config={\"executor\": autogen.coding.LocalCommandLineCodeExecutor(work_dir=\"coding\")}\n",
    ")"
   ]
  },
  {
   "cell_type": "code",
   "execution_count": 6,
   "metadata": {},
   "outputs": [
    {
     "name": "stdout",
     "output_type": "stream",
     "text": [
      "\u001b[33muser_proxy\u001b[0m (to assistant):\n",
      "\n",
      "Plot a chart of NVDA and TESLA stock price change YTD.\n",
      "\n",
      "--------------------------------------------------------------------------------\n",
      "\u001b[33massistant\u001b[0m (to user_proxy):\n",
      "\n",
      "```sh\n",
      "# filename: plot.sh\n",
      "curl https://www.macrotrends.net/stocks/charts/NVDA/nvidia/stock-price-history \\\n",
      "    | grep -oP '(?<=<td class=\"dt\">(.*?)</td>).*?(?<=<td class=\"num right\">)(.*?)</td>' \\\n",
      "    | sed 's/&nbsp;//g' \\\n",
      "    | awk -F ',' '{printf \"%s %s\\n\", $1, $2}' > ./nvda.csv\n",
      "\n",
      "curl https://www.macrotrends.net/stocks/charts/TSLA/tesla/stock-price-history \\\n",
      "    | grep -oP '(?<=<td class=\"dt\">(.*?)</td>).*?(?<=<td class=\"num right\">)(.*?)</td>' \\\n",
      "    | sed 's/&nbsp;//g' \\\n",
      "    | awk -F ',' '{printf \"%s %s\\n\", $1, $2}' > ./tsla.csv\n",
      "\n",
      "gnuplot -p -e '\n",
      "set term png size 1920,1200\n",
      "set output \"TSLA and NVDA  stock chart.png\"\n",
      "set xdata time\n",
      "set timefmt \"%b %e\"\n",
      "set ylabel \"Daily Closing Price (USD)\"\n",
      "set style data lines\n",
      "set grid\n",
      "set key right\n",
      "plot \"nvda.csv\" using 1:2 with lines title \"NVIDIA\", \\\n",
      "     \"tsla.csv\" using 1:2 with lines title \"Tesla\"\n",
      "'\n",
      "```\n",
      "\n",
      "--------------------------------------------------------------------------------\n"
     ]
    },
    {
     "data": {
      "text/plain": [
       "ChatResult(chat_id=None, chat_history=[{'content': 'Plot a chart of NVDA and TESLA stock price change YTD.', 'role': 'assistant', 'name': 'user_proxy'}, {'content': '```sh\\n# filename: plot.sh\\ncurl https://www.macrotrends.net/stocks/charts/NVDA/nvidia/stock-price-history \\\\\\n    | grep -oP \\'(?<=<td class=\"dt\">(.*?)</td>).*?(?<=<td class=\"num right\">)(.*?)</td>\\' \\\\\\n    | sed \\'s/&nbsp;//g\\' \\\\\\n    | awk -F \\',\\' \\'{printf \"%s %s\\\\n\", $1, $2}\\' > ./nvda.csv\\n\\ncurl https://www.macrotrends.net/stocks/charts/TSLA/tesla/stock-price-history \\\\\\n    | grep -oP \\'(?<=<td class=\"dt\">(.*?)</td>).*?(?<=<td class=\"num right\">)(.*?)</td>\\' \\\\\\n    | sed \\'s/&nbsp;//g\\' \\\\\\n    | awk -F \\',\\' \\'{printf \"%s %s\\\\n\", $1, $2}\\' > ./tsla.csv\\n\\ngnuplot -p -e \\'\\nset term png size 1920,1200\\nset output \"TSLA and NVDA  stock chart.png\"\\nset xdata time\\nset timefmt \"%b %e\"\\nset ylabel \"Daily Closing Price (USD)\"\\nset style data lines\\nset grid\\nset key right\\nplot \"nvda.csv\" using 1:2 with lines title \"NVIDIA\", \\\\\\n     \"tsla.csv\" using 1:2 with lines title \"Tesla\"\\n\\'\\n```', 'role': 'user', 'name': 'assistant'}], summary='```sh\\n# filename: plot.sh\\ncurl https://www.macrotrends.net/stocks/charts/NVDA/nvidia/stock-price-history \\\\\\n    | grep -oP \\'(?<=<td class=\"dt\">(.*?)</td>).*?(?<=<td class=\"num right\">)(.*?)</td>\\' \\\\\\n    | sed \\'s/&nbsp;//g\\' \\\\\\n    | awk -F \\',\\' \\'{printf \"%s %s\\\\n\", $1, $2}\\' > ./nvda.csv\\n\\ncurl https://www.macrotrends.net/stocks/charts/TSLA/tesla/stock-price-history \\\\\\n    | grep -oP \\'(?<=<td class=\"dt\">(.*?)</td>).*?(?<=<td class=\"num right\">)(.*?)</td>\\' \\\\\\n    | sed \\'s/&nbsp;//g\\' \\\\\\n    | awk -F \\',\\' \\'{printf \"%s %s\\\\n\", $1, $2}\\' > ./tsla.csv\\n\\ngnuplot -p -e \\'\\nset term png size 1920,1200\\nset output \"TSLA and NVDA  stock chart.png\"\\nset xdata time\\nset timefmt \"%b %e\"\\nset ylabel \"Daily Closing Price (USD)\"\\nset style data lines\\nset grid\\nset key right\\nplot \"nvda.csv\" using 1:2 with lines title \"NVIDIA\", \\\\\\n     \"tsla.csv\" using 1:2 with lines title \"Tesla\"\\n\\'\\n```', cost={'usage_including_cached_inference': {'total_cost': 0.0007445, 'gemini-pro': {'cost': 0.0007445, 'prompt_tokens': 487, 'completion_tokens': 334, 'total_tokens': 821}}, 'usage_excluding_cached_inference': {'total_cost': 0}}, human_input=['exit'])"
      ]
     },
     "execution_count": 6,
     "metadata": {},
     "output_type": "execute_result"
    }
   ],
   "source": [
    "user_proxy.initiate_chat(\n",
    "    assistant,\n",
    "    message=\"Plot a chart of NVDA and TESLA stock price change YTD.\",\n",
    ")"
   ]
  },
  {
   "cell_type": "code",
   "execution_count": null,
   "metadata": {},
   "outputs": [],
   "source": []
  }
 ],
 "metadata": {
  "kernelspec": {
   "display_name": "Python 3",
   "language": "python",
   "name": "python3"
  },
  "language_info": {
   "codemirror_mode": {
    "name": "ipython",
    "version": 3
   },
   "file_extension": ".py",
   "mimetype": "text/x-python",
   "name": "python",
   "nbconvert_exporter": "python",
   "pygments_lexer": "ipython3",
   "version": "3.12.3"
  }
 },
 "nbformat": 4,
 "nbformat_minor": 2
}
